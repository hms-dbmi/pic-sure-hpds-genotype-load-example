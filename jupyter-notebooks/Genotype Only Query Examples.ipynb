{
 "cells": [
  {
   "cell_type": "markdown",
   "metadata": {},
   "source": [
    "# Install the PIC-SURE-HPDS client library"
   ]
  },
  {
   "cell_type": "code",
   "execution_count": 1,
   "metadata": {
    "collapsed": false
   },
   "outputs": [
    {
     "name": "stdout",
     "output_type": "stream",
     "text": [
      "Requirement already up-to-date: pip in /opt/conda/lib/python3.5/site-packages (19.2.3)\n",
      "Collecting git+https://github.com/hms-dbmi/pic-sure-python-client.git\n",
      "  Cloning https://github.com/hms-dbmi/pic-sure-python-client.git to /tmp/pip-req-build-9rmoyrxk\n",
      "  Running command git clone -q https://github.com/hms-dbmi/pic-sure-python-client.git /tmp/pip-req-build-9rmoyrxk\n",
      "Requirement already satisfied (use --upgrade to upgrade): PicSureClient==0.1.0 from git+https://github.com/hms-dbmi/pic-sure-python-client.git in /opt/conda/lib/python3.5/site-packages\n",
      "Building wheels for collected packages: PicSureClient\n",
      "  Building wheel for PicSureClient (setup.py) ... \u001b[?25l-\b \b\\\b \bdone\n",
      "\u001b[?25h  Created wheel for PicSureClient: filename=PicSureClient-0.1.0-py2.py3-none-any.whl size=5585 sha256=6dd42b84242836e92b4c77bc89ba997b368f2c318bf5f83fe3d3877993d4a14b\n",
      "  Stored in directory: /tmp/pip-ephem-wheel-cache-1vuqqw8i/wheels/b4/c1/d9/744d4e1c1ba5f0c5d847deba1a7c8f96f47d4b36c610dda114\n",
      "Successfully built PicSureClient\n",
      "Collecting git+https://github.com/hms-dbmi/pic-sure-python-adapter-hpds.git\n",
      "  Cloning https://github.com/hms-dbmi/pic-sure-python-adapter-hpds.git to /tmp/pip-req-build-hzjyvktz\n",
      "  Running command git clone -q https://github.com/hms-dbmi/pic-sure-python-adapter-hpds.git /tmp/pip-req-build-hzjyvktz\n",
      "Requirement already satisfied (use --upgrade to upgrade): PicSureHpdsLib==0.9.0 from git+https://github.com/hms-dbmi/pic-sure-python-adapter-hpds.git in /opt/conda/lib/python3.5/site-packages\n",
      "Requirement already satisfied: httplib2 in /opt/conda/lib/python3.5/site-packages (from PicSureHpdsLib==0.9.0) (0.14.0)\n",
      "Building wheels for collected packages: PicSureHpdsLib\n",
      "  Building wheel for PicSureHpdsLib (setup.py) ... \u001b[?25l-\b \b\\\b \bdone\n",
      "\u001b[?25h  Created wheel for PicSureHpdsLib: filename=PicSureHpdsLib-0.9.0-py2.py3-none-any.whl size=12909 sha256=7a1ee7824d8cec204e79dda9c6b83bbed5f1786560b4ef3af41a78d47cc81939\n",
      "  Stored in directory: /tmp/pip-ephem-wheel-cache-o8usmnlx/wheels/6c/ac/12/4d142709d83e0bdd96c661e183f2dcbb0e03f90e98e5ac256e\n",
      "Successfully built PicSureHpdsLib\n",
      "Requirement already satisfied: pandas in /opt/conda/lib/python3.5/site-packages (0.24.2)\n",
      "Requirement already satisfied: numpy>=1.12.0 in /opt/conda/lib/python3.5/site-packages (from pandas) (1.17.2)\n",
      "Requirement already satisfied: pytz>=2011k in /opt/conda/lib/python3.5/site-packages (from pandas) (2019.2)\n",
      "Requirement already satisfied: python-dateutil>=2.5.0 in /opt/conda/lib/python3.5/site-packages (from pandas) (2.8.0)\n",
      "Requirement already satisfied: six>=1.5 in /opt/conda/lib/python3.5/site-packages (from python-dateutil>=2.5.0->pandas) (1.10.0)\n",
      "Requirement already satisfied: matplotlib in /opt/conda/lib/python3.5/site-packages (3.0.3)\n",
      "Requirement already satisfied: python-dateutil>=2.1 in /opt/conda/lib/python3.5/site-packages (from matplotlib) (2.8.0)\n",
      "Requirement already satisfied: cycler>=0.10 in /opt/conda/lib/python3.5/site-packages (from matplotlib) (0.10.0)\n",
      "Requirement already satisfied: pyparsing!=2.0.4,!=2.1.2,!=2.1.6,>=2.0.1 in /opt/conda/lib/python3.5/site-packages (from matplotlib) (2.4.2)\n",
      "Requirement already satisfied: numpy>=1.10.0 in /opt/conda/lib/python3.5/site-packages (from matplotlib) (1.17.2)\n",
      "Requirement already satisfied: kiwisolver>=1.0.1 in /opt/conda/lib/python3.5/site-packages (from matplotlib) (1.1.0)\n",
      "Requirement already satisfied: six>=1.5 in /opt/conda/lib/python3.5/site-packages (from python-dateutil>=2.1->matplotlib) (1.10.0)\n",
      "Requirement already satisfied: setuptools in /opt/conda/lib/python3.5/site-packages/setuptools-23.0.0-py3.5.egg (from kiwisolver>=1.0.1->matplotlib) (23.0.0)\n"
     ]
    }
   ],
   "source": [
    "import sys\n",
    "\n",
    "#!{sys.executable} -m pip uninstall git+https://github.com/hms-dbmi/pic-sure-python-client.git    \n",
    "#!{sys.executable} -m pip uninstall git+https://github.com/hms-dbmi/pic-sure-python-adapter-hpds.git\n",
    "\n",
    "!{sys.executable} -m pip install --upgrade pip\n",
    "!{sys.executable} -m pip install git+https://github.com/hms-dbmi/pic-sure-python-client.git    \n",
    "!{sys.executable} -m pip install git+https://github.com/hms-dbmi/pic-sure-python-adapter-hpds.git\n",
    "!{sys.executable} -m pip install pandas\n",
    "!{sys.executable} -m pip install matplotlib"
   ]
  },
  {
   "cell_type": "markdown",
   "metadata": {},
   "source": [
    "# Connect directly to the HPDS resource, bypassing all security. This should never be possible in an instance holding private data. \n",
    "\n",
    "# An HPDS instance should always be hosted behind a PIC-SURE API and PIC-SURE Auth Micro-App instance if it has any privacy concern. "
   ]
  },
  {
   "cell_type": "code",
   "execution_count": 4,
   "metadata": {
    "collapsed": false
   },
   "outputs": [],
   "source": [
    "from pandas import pandas\n",
    "import PicSureHpdsLib\n",
    "adapter = PicSureHpdsLib.BypassAdapter(\"http://pic-sure-hpds-1kgenome:8080/PIC-SURE\")\n",
    "resource = adapter.useResource()"
   ]
  },
  {
   "cell_type": "markdown",
   "metadata": {},
   "source": [
    "# Retrieve the data dictionary"
   ]
  },
  {
   "cell_type": "code",
   "execution_count": 5,
   "metadata": {
    "collapsed": false
   },
   "outputs": [],
   "source": [
    "from importlib import reload\n",
    "reload(PicSureHpdsLib)\n",
    "data_dictionary = resource.dictionary().find(\"1\")\n",
    "all_concepts = data_dictionary.DataFrame()"
   ]
  },
  {
   "cell_type": "code",
   "execution_count": 6,
   "metadata": {
    "collapsed": false
   },
   "outputs": [
    {
     "data": {
      "text/html": [
       "<div>\n",
       "<style scoped>\n",
       "    .dataframe tbody tr th:only-of-type {\n",
       "        vertical-align: middle;\n",
       "    }\n",
       "\n",
       "    .dataframe tbody tr th {\n",
       "        vertical-align: top;\n",
       "    }\n",
       "\n",
       "    .dataframe thead th {\n",
       "        text-align: right;\n",
       "    }\n",
       "</style>\n",
       "<table border=\"1\" class=\"dataframe\">\n",
       "  <thead>\n",
       "    <tr style=\"text-align: right;\">\n",
       "      <th></th>\n",
       "      <th>HpdsDataType</th>\n",
       "      <th>continuous</th>\n",
       "      <th>description</th>\n",
       "      <th>values</th>\n",
       "    </tr>\n",
       "  </thead>\n",
       "  <tbody>\n",
       "    <tr>\n",
       "      <th>SVTYPE</th>\n",
       "      <td>info</td>\n",
       "      <td>False</td>\n",
       "      <td>Description=\"Type of structural variant\"</td>\n",
       "      <td>[LINE1]</td>\n",
       "    </tr>\n",
       "    <tr>\n",
       "      <th>CS</th>\n",
       "      <td>info</td>\n",
       "      <td>False</td>\n",
       "      <td>Description=\"Source call set.\"</td>\n",
       "      <td>[L1_umary]</td>\n",
       "    </tr>\n",
       "    <tr>\n",
       "      <th>AFR_AF</th>\n",
       "      <td>info</td>\n",
       "      <td>True</td>\n",
       "      <td>Description=\"Allele frequency in the AFR popul...</td>\n",
       "      <td>[]</td>\n",
       "    </tr>\n",
       "    <tr>\n",
       "      <th>AMR_AF</th>\n",
       "      <td>info</td>\n",
       "      <td>True</td>\n",
       "      <td>Description=\"Allele frequency in the AMR popul...</td>\n",
       "      <td>[]</td>\n",
       "    </tr>\n",
       "    <tr>\n",
       "      <th>EAS_AF</th>\n",
       "      <td>info</td>\n",
       "      <td>True</td>\n",
       "      <td>Description=\"Allele frequency in the EAS popul...</td>\n",
       "      <td>[]</td>\n",
       "    </tr>\n",
       "    <tr>\n",
       "      <th>SAS_AF</th>\n",
       "      <td>info</td>\n",
       "      <td>True</td>\n",
       "      <td>Description=\"Allele frequency in the SAS popul...</td>\n",
       "      <td>[]</td>\n",
       "    </tr>\n",
       "    <tr>\n",
       "      <th>AF</th>\n",
       "      <td>info</td>\n",
       "      <td>True</td>\n",
       "      <td>Description=\"Estimated allele frequency in the...</td>\n",
       "      <td>[]</td>\n",
       "    </tr>\n",
       "    <tr>\n",
       "      <th>MC</th>\n",
       "      <td>info</td>\n",
       "      <td>False</td>\n",
       "      <td>Description=\"Merged calls.\"</td>\n",
       "      <td>[EM_DL_DEL27668,YL_CN_ITU_3052,YL_CN_STU_3093,...</td>\n",
       "    </tr>\n",
       "  </tbody>\n",
       "</table>\n",
       "</div>"
      ],
      "text/plain": [
       "       HpdsDataType  continuous  \\\n",
       "SVTYPE         info       False   \n",
       "CS             info       False   \n",
       "AFR_AF         info        True   \n",
       "AMR_AF         info        True   \n",
       "EAS_AF         info        True   \n",
       "SAS_AF         info        True   \n",
       "AF             info        True   \n",
       "MC             info       False   \n",
       "\n",
       "                                              description  \\\n",
       "SVTYPE           Description=\"Type of structural variant\"   \n",
       "CS                         Description=\"Source call set.\"   \n",
       "AFR_AF  Description=\"Allele frequency in the AFR popul...   \n",
       "AMR_AF  Description=\"Allele frequency in the AMR popul...   \n",
       "EAS_AF  Description=\"Allele frequency in the EAS popul...   \n",
       "SAS_AF  Description=\"Allele frequency in the SAS popul...   \n",
       "AF      Description=\"Estimated allele frequency in the...   \n",
       "MC                            Description=\"Merged calls.\"   \n",
       "\n",
       "                                                   values  \n",
       "SVTYPE                                            [LINE1]  \n",
       "CS                                             [L1_umary]  \n",
       "AFR_AF                                                 []  \n",
       "AMR_AF                                                 []  \n",
       "EAS_AF                                                 []  \n",
       "SAS_AF                                                 []  \n",
       "AF                                                     []  \n",
       "MC      [EM_DL_DEL27668,YL_CN_ITU_3052,YL_CN_STU_3093,...  "
      ]
     },
     "execution_count": 6,
     "metadata": {},
     "output_type": "execute_result"
    }
   ],
   "source": [
    "all_concepts"
   ]
  },
  {
   "cell_type": "code",
   "execution_count": 7,
   "metadata": {
    "collapsed": false
   },
   "outputs": [
    {
     "name": "stdout",
     "output_type": "stream",
     "text": [
      "\n",
      "        .select()   list of data fields to return from resource for each record\n",
      "        .require()  list of data fields that must be present in all returned records\n",
      "        .filter()   list of data fields and conditions that returned records satisfy\n",
      "                  [ Filter keys exert an AND relationship on returned records      ]\n",
      "                  [ Categorical values have an OR relationship on their key        ]\n",
      "                  [ Numerical Ranges are inclusive of their start and end points   ]\n",
      "\n",
      "        .getCount()             returns a count indicating the number of matching numbers\n",
      "        .getResults()           returns a CSV-like string containing the matching records\n",
      "        .getResultsDataFrame()  returns a pandas DataFrame containing the matching records\n",
      "        .getRunDetails()        returns details about the last run of the query\n",
      "        .getQueryCommand()      returns the JSON-formatted query request\n",
      "        .show()                 lists all current query parameters\n",
      "        \n",
      "            * getCount(), getResults(), and getResultsDataFrame() functions can also \n",
      "              accept options that run queries differently which might help with \n",
      "              connection timeouts. Example: .getResults(async=True, timeout=60)\n",
      "        \n"
     ]
    }
   ],
   "source": [
    "resource.query().help()"
   ]
  },
  {
   "cell_type": "code",
   "execution_count": 8,
   "metadata": {
    "collapsed": true
   },
   "outputs": [],
   "source": [
    "query = resource.query()"
   ]
  },
  {
   "cell_type": "code",
   "execution_count": 9,
   "metadata": {
    "collapsed": false
   },
   "outputs": [
    {
     "name": "stdout",
     "output_type": "stream",
     "text": [
      "\n",
      "            filter().\n",
      "              add(\"key\", value)                  - or -\n",
      "              add(\"key\", \"value\")               filter to records with KEY column that equals VALUE\n",
      "              add(\"key\", [\"value1\", \"value2\"])  filter to records with KEY column equalling one value within the given list\n",
      "              add(\"key\", start, end)            filter to records with KEY column value between START and END (inclusive)\n",
      "                                                    start -or- end may be set to None to filter by a max or min value\n",
      "              delete(\"key\")                     delete a filter from the list of filters\n",
      "              show()                            lists all current filters that results records must satisfy\n",
      "              clear()                           clears all values from the filters list\n",
      "            \n"
     ]
    }
   ],
   "source": [
    "query.filter().help()\n"
   ]
  },
  {
   "cell_type": "code",
   "execution_count": 10,
   "metadata": {
    "collapsed": false
   },
   "outputs": [
    {
     "data": {
      "text/plain": [
       "<PicSureHpdsLib.PicSureHpdsAttrListKeyValues.AttrListKeyValues at 0x7febf75f2198>"
      ]
     },
     "execution_count": 10,
     "metadata": {},
     "output_type": "execute_result"
    }
   ],
   "source": [
    "query.filter().add(\"14,19007590,G,A\",\"1/0\")"
   ]
  },
  {
   "cell_type": "code",
   "execution_count": 11,
   "metadata": {
    "collapsed": false
   },
   "outputs": [
    {
     "data": {
      "text/plain": [
       "0"
      ]
     },
     "execution_count": 11,
     "metadata": {},
     "output_type": "execute_result"
    }
   ],
   "source": [
    "query.getCount()"
   ]
  },
  {
   "cell_type": "code",
   "execution_count": null,
   "metadata": {
    "collapsed": true
   },
   "outputs": [],
   "source": []
  },
  {
   "cell_type": "code",
   "execution_count": null,
   "metadata": {
    "collapsed": true
   },
   "outputs": [],
   "source": []
  }
 ],
 "metadata": {
  "kernelspec": {
   "display_name": "Python 3",
   "language": "python",
   "name": "python3"
  },
  "language_info": {
   "codemirror_mode": {
    "name": "ipython",
    "version": 3
   },
   "file_extension": ".py",
   "mimetype": "text/x-python",
   "name": "python",
   "nbconvert_exporter": "python",
   "pygments_lexer": "ipython3",
   "version": "3.5.2"
  }
 },
 "nbformat": 4,
 "nbformat_minor": 1
}
